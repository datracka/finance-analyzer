{
 "cells": [
  {
   "cell_type": "code",
   "execution_count": 6,
   "metadata": {},
   "outputs": [],
   "source": [
    "from langchain_community.llms import Ollama\n",
    "llm = Ollama(model=\"llama2\")"
   ]
  },
  {
   "cell_type": "code",
   "execution_count": 7,
   "metadata": {},
   "outputs": [
    {
     "data": {
      "text/plain": [
       "'\\nLangsmith is a language model that can assist with testing in several ways:\\n\\n1. Automated Testing: Langsmith can be used to generate test cases automatically, based on the structure and functionality of the code. This can save time and effort compared to manual testing, and can also help ensure that all possible scenarios are covered.\\n2. Code Review: Langsmith can analyze code and provide feedback on potential issues or areas for improvement. This can help developers identify and fix errors before they become problems in production.\\n3. Test Data Generation: Langsmith can generate test data automatically, based on the structure of the data and the requirements of the application. This can save time and effort compared to manual testing, and can also help ensure that all possible scenarios are covered.\\n4. Regression Testing: Langsmith can be used to generate test cases for regression testing, which involves re-testing existing functionality after changes or updates have been made to the code. This can help ensure that the changes did not introduce new bugs or break existing functionality.\\n5. Automated Testing Frameworks: Langsmith can be integrated with automated testing frameworks such as Selenium, Appium, and JUnit to provide a more comprehensive testing solution.\\n6. Code Coverage Analysis: Langsmith can analyze the code coverage of tests to identify areas that are not being tested adequately, and provide recommendations for improving test coverage.\\n7. Test Prioritization: Langsmith can prioritize tests based on risk and complexity, which can help developers focus their testing efforts on the most critical areas.\\n8. Defect Prediction: Langsmith can predict potential defects in the code based on its analysis of the code and the testing history, which can help developers identify and fix problems before they occur.\\n9. Testing Efficiency: Langsmith can optimize test cases to reduce the number of tests needed to cover a given functionality, which can save time and resources.\\n10. Continuous Integration/Continuous Deployment: Langsmith can be integrated with CI/CD tools such as Jenkins, Travis CI, and CircleCI to provide automated testing and deployment capabilities.\\n\\nOverall, Langsmith can help developers and testers save time and effort by automating repetitive tasks, improving code quality, and identifying potential defects early in the development cycle.'"
      ]
     },
     "execution_count": 7,
     "metadata": {},
     "output_type": "execute_result"
    }
   ],
   "source": [
    "llm.invoke(\"how can langsmith help with testing?\")\n",
    "\n"
   ]
  },
  {
   "cell_type": "code",
   "execution_count": 8,
   "metadata": {},
   "outputs": [],
   "source": [
    "from langchain_core.prompts import ChatPromptTemplate\n",
    "prompt = ChatPromptTemplate.from_messages([\n",
    "    (\"system\", \"You are world class technical documentation writer.\"),\n",
    "    (\"user\", \"{input}\")\n",
    "])"
   ]
  },
  {
   "cell_type": "code",
   "execution_count": null,
   "metadata": {},
   "outputs": [],
   "source": [
    "chain = prompt | llm "
   ]
  },
  {
   "cell_type": "code",
   "execution_count": null,
   "metadata": {},
   "outputs": [],
   "source": [
    "from langchain_core.output_parsers import StrOutputParser\n",
    "\n",
    "output_parser = StrOutputParser()   "
   ]
  },
  {
   "cell_type": "code",
   "execution_count": 10,
   "metadata": {},
   "outputs": [],
   "source": [
    "chain = prompt | llm | output_parser\n"
   ]
  },
  {
   "cell_type": "code",
   "execution_count": 11,
   "metadata": {},
   "outputs": [
    {
     "data": {
      "text/plain": [
       "\"\\nAs a world-class technical documentation writer, I must say that Langsmith is an excellent tool for testing and ensuring the quality of your documentation. Here are some ways in which Langsmith can help with testing:\\n\\n1. Language Analysis: Langsmith's language analysis capabilities can help identify potential issues with grammar, spelling, punctuation, and syntax. This can save a significant amount of time and effort during the testing phase.\\n2. Contextual Understanding: Langsmith's ability to understand context can help identify areas where the documentation may be unclear or confusing. This can lead to improvements in the documentation that are more accurate and easier to use.\\n3. Consistency Checking: Langsmith can check for consistency in formatting, style, and tone throughout the documentation. This can ensure that the documentation is cohesive and easy to follow.\\n4. Error Detection: Langsmith's error detection capabilities can identify potential errors in the documentation, such as broken links or incorrect information. This can help ensure that the documentation is accurate and reliable.\\n5. Readability Analysis: Langsmith can analyze the readability of the documentation and provide feedback on areas where it may be difficult to understand. This can lead to improvements in the documentation that are more accessible to a wider range of users.\\n6. Compliance Checking: Langsmith can check for compliance with relevant standards, regulations, or policies. This can help ensure that the documentation meets legal and regulatory requirements.\\n7. Search Engine Optimization (SEO): Langsmith's ability to analyze and optimize text can help improve the visibility of the documentation in search engines. This can lead to more users finding and using the documentation.\\n8. Collaboration: Langsmith's collaboration features allow multiple team members to work together on the documentation, streamlining the testing process and ensuring that everyone is on the same page.\\n9. Automated Workflows: Langsmith's automated workflows can help streamline the testing process by automating repetitive tasks, such as checking for consistency or compliance. This can save time and effort and allow the team to focus on more critical aspects of the documentation.\\n10. Integration with Other Tools: Langsmith can integrate with other tools and platforms, such as project management software or version control systems. This can help streamline the testing process and ensure that everyone is working together effectively.\\n\\nIn conclusion, Langsmith's advanced language analysis capabilities make it an invaluable tool for testing technical documentation. By automating repetitive tasks, improving readability, and identifying potential issues, Langsmith can help ensure that the documentation is accurate, consistent, and easy to use.\""
      ]
     },
     "execution_count": 11,
     "metadata": {},
     "output_type": "execute_result"
    }
   ],
   "source": [
    "chain.invoke({\"input\": \"how can langsmith help with testing?\"})\n",
    "\n",
    "\n"
   ]
  }
 ],
 "metadata": {
  "kernelspec": {
   "display_name": "finance-zruwXuID",
   "language": "python",
   "name": "python3"
  },
  "language_info": {
   "codemirror_mode": {
    "name": "ipython",
    "version": 3
   },
   "file_extension": ".py",
   "mimetype": "text/x-python",
   "name": "python",
   "nbconvert_exporter": "python",
   "pygments_lexer": "ipython3",
   "version": "3.12.2"
  }
 },
 "nbformat": 4,
 "nbformat_minor": 2
}
